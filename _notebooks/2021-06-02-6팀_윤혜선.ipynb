{
  "nbformat": 4,
  "nbformat_minor": 0,
  "metadata": {
    "colab": {
      "name": "20210602-6팀-윤혜선.ipynb",
      "provenance": [],
      "collapsed_sections": [],
      "authorship_tag": "ABX9TyPFmafW5/4dIuq6pI44rEJb",
      "include_colab_link": true
    },
    "kernelspec": {
      "name": "python3",
      "display_name": "Python 3"
    },
    "language_info": {
      "name": "python"
    }
  },
  "cells": [
    {
      "cell_type": "markdown",
      "metadata": {
        "id": "view-in-github",
        "colab_type": "text"
      },
      "source": [
        "<a href=\"https://colab.research.google.com/github/aaata3/team01/blob/master/_notebooks/2021-06-02-6%ED%8C%80_%EC%9C%A4%ED%98%9C%EC%84%A0.ipynb\" target=\"_parent\"><img src=\"https://colab.research.google.com/assets/colab-badge.svg\" alt=\"Open In Colab\"/></a>"
      ]
    },
    {
      "cell_type": "code",
      "metadata": {
        "colab": {
          "base_uri": "https://localhost:8080/"
        },
        "id": "10kyAhHDUaRT",
        "outputId": "9ba3c8a2-d004-46cb-fc92-c80629e4ef20"
      },
      "source": [
        "# 매개변수 개수 가변적일때 사용. \n",
        "def average(*args): #별표 하나-매개변수를 튜플로 받겠다는 뜻.\n",
        "    avrg1 = sum(args) /len(args)\n",
        "    return avrg1\n",
        "print(average(1,2,3))\n",
        "print(average(1,2,3,4,5))"
      ],
      "execution_count": null,
      "outputs": [
        {
          "output_type": "stream",
          "text": [
            "2.0\n",
            "3.0\n"
          ],
          "name": "stdout"
        }
      ]
    },
    {
      "cell_type": "code",
      "metadata": {
        "colab": {
          "base_uri": "https://localhost:8080/"
        },
        "id": "qJJWoE34Ut0o",
        "outputId": "8ce217fc-502a-453c-b0d8-6b3719f3ab13"
      },
      "source": [
        "# 매개변수 개수 가변적일때 사용. \n",
        "def average(*args):\n",
        "    avrg1 = sum(args) /len(args)\n",
        "    return avrg1\n",
        "print(average(10,20,40))\n",
        "print(average(3,6,9,10,36,33))\n",
        "\n",
        "#따로 지정하지 않아도 튜플 형식으로 전부 들어간다"
      ],
      "execution_count": null,
      "outputs": [
        {
          "output_type": "stream",
          "text": [
            "23.333333333333332\n",
            "16.166666666666668\n"
          ],
          "name": "stdout"
        }
      ]
    },
    {
      "cell_type": "code",
      "metadata": {
        "colab": {
          "base_uri": "https://localhost:8080/"
        },
        "id": "q8D0GK-2Vefi",
        "outputId": "a32ca2ea-e88f-492b-ddc1-0254a90c872d"
      },
      "source": [
        "#예제 소수여부 판단하기\n",
        "#소수-1과 자기자신만으로 나누어 떨어지는 자연수\n",
        "\n",
        "def is_prime(number):\n",
        "    #소수여부 판단하여 리턴\n",
        "    #소수: True, 소수가 아님: False\n",
        "\n",
        "    if number <2:\n",
        "        return False\n",
        "    for i in range(2,number):\n",
        "        if number %i==0:\n",
        "            return False\n",
        "\n",
        "    return True\n",
        "\n",
        "input_number=int(input('숫자:'))\n",
        "if is_prime(input_number):\n",
        "    print('소수입니다')\n",
        "else:\n",
        "    print('소수가 아닙니다.')"
      ],
      "execution_count": null,
      "outputs": [
        {
          "output_type": "stream",
          "text": [
            "숫자:67\n",
            "소수입니다\n"
          ],
          "name": "stdout"
        }
      ]
    },
    {
      "cell_type": "code",
      "metadata": {
        "colab": {
          "base_uri": "https://localhost:8080/"
        },
        "id": "ud7S_qdnXgAA",
        "outputId": "75adb1c5-668d-44a2-eba0-535d6f9df985"
      },
      "source": [
        "def is_prime(number):\n",
        "    #소수여부 판단하여 리턴\n",
        "    #소수: True, 소수가 아님: False\n",
        "\n",
        "    if number <2:\n",
        "        return False\n",
        "    for i in range(2,number):\n",
        "        print(i,number)\n",
        "#99가 3으로 나눠떨어지기 때문에 소수가 아님을 확인할수있다\n",
        "        if number %i==0:\n",
        "            return False\n",
        "\n",
        "    return True  # if number <2:여기에 걸리는 리턴값!\n",
        "\n",
        "input_number=int(input('숫자:'))\n",
        "if is_prime(input_number):\n",
        "    print('소수입니다')\n",
        "else:\n",
        "    print('소수가 아닙니다.')"
      ],
      "execution_count": null,
      "outputs": [
        {
          "output_type": "stream",
          "text": [
            "숫자:99\n",
            "2 99\n",
            "3 99\n",
            "소수가 아닙니다.\n"
          ],
          "name": "stdout"
        }
      ]
    },
    {
      "cell_type": "code",
      "metadata": {
        "id": "sMtfBJ2kYYqm"
      },
      "source": [
        "def is_odd(number):\n",
        "   #짝수홀수\n",
        "\n",
        "    if number %2==0:\n",
        "        print(number,'짝수이다')\n",
        "    else:\n",
        "        print(number,'홀수이다')"
      ],
      "execution_count": null,
      "outputs": []
    },
    {
      "cell_type": "code",
      "metadata": {
        "colab": {
          "base_uri": "https://localhost:8080/"
        },
        "id": "UGdqEmS3dUjK",
        "outputId": "95c8af58-53f5-45cf-dd0f-ce0632c68106"
      },
      "source": [
        "#예제-오늘의 메뉴\n",
        "# *arg= 모르는 미지값에 대한 튜플값을 받아줌\n",
        "#매개변수가 정해지지 않았을 때 함수를 정의하는 방법\n",
        "\n",
        "def today_menu(*menu):\n",
        "    for i in range(len(menu)):\n",
        "        print(menu[i])\n",
        "print('==오늘의 메뉴==')\n",
        "today_menu('김밥','떡볶이','오뎅')"
      ],
      "execution_count": null,
      "outputs": [
        {
          "output_type": "stream",
          "text": [
            "==오늘의 메뉴==\n",
            "김밥\n",
            "떡볶이\n",
            "오뎅\n"
          ],
          "name": "stdout"
        }
      ]
    },
    {
      "cell_type": "code",
      "metadata": {
        "colab": {
          "base_uri": "https://localhost:8080/"
        },
        "id": "UIS6bHJJldiN",
        "outputId": "320505ca-d958-4c38-a276-a1f472e40a69"
      },
      "source": [
        "#lambda 함수\n",
        "#함수를 함수명 없이 정의해서 바로 사용하는것\n",
        "#한줄로 간단하게 나타내는 함수\n",
        "\n",
        "def plus(num1,num2):\n",
        "    result=num1+num2\n",
        "    return result\n",
        "print(plus(10,20))\n",
        "\n",
        "plus=lambda num1,num2: num1+num2\n",
        "print(plus(10,20))\n",
        "#plus를 사용해서 num1, num2를 넣어주는 것이다\n"
      ],
      "execution_count": null,
      "outputs": [
        {
          "output_type": "stream",
          "text": [
            "30\n",
            "30\n"
          ],
          "name": "stdout"
        }
      ]
    },
    {
      "cell_type": "code",
      "metadata": {
        "colab": {
          "base_uri": "https://localhost:8080/"
        },
        "id": "VBMp3uLkmUsw",
        "outputId": "b038852f-102b-4a3c-97e6-706a85d13645"
      },
      "source": [
        "#map()함수\n",
        "#두 개의 인자를 갖는 함수로 순서가 있는 자료형에 사용\n",
        "#첫번째 인자는 함수명, 두번째 인자는 순서가 있는 자료형\n",
        "\n",
        "mylist=[1,2,3,4,5]\n",
        "plus10=lambda num:num+10\n",
        "\n",
        "mylist= list(map(plus10, mylist))\n",
        "print(mylist)\n"
      ],
      "execution_count": null,
      "outputs": [
        {
          "output_type": "stream",
          "text": [
            "[11, 12, 13, 14, 15]\n"
          ],
          "name": "stdout"
        }
      ]
    },
    {
      "cell_type": "code",
      "metadata": {
        "colab": {
          "base_uri": "https://localhost:8080/"
        },
        "id": "BqGjBf1Qn4AZ",
        "outputId": "e75e8484-d137-4dea-8043-ff82ec2c5d7d"
      },
      "source": [
        "#lambda를 넣어서 한번에 넣을 수도 있다.\n",
        "mylist=[1,2,3,4,5,5,5]\n",
        "mylist= list(map(lambda num:num+10, mylist))\n",
        "print(mylist)"
      ],
      "execution_count": null,
      "outputs": [
        {
          "output_type": "stream",
          "text": [
            "[11, 12, 13, 14, 15, 15, 15]\n"
          ],
          "name": "stdout"
        }
      ]
    },
    {
      "cell_type": "code",
      "metadata": {
        "colab": {
          "base_uri": "https://localhost:8080/"
        },
        "id": "GmTMODOAoGZq",
        "outputId": "ff773fd0-58e6-4ae8-ac76-163e88b9496b"
      },
      "source": [
        "#set으로 받는다면 집합으로 받을수도 있다.\n",
        "#집합으로 받으면 같은수는 한번만 나온다.\n",
        "mylist=(1,2,3,4,5,5,5)\n",
        "plus10=lambda num:num+10\n",
        "\n",
        "mylist= set(map(plus10, mylist))\n",
        "print(mylist)"
      ],
      "execution_count": null,
      "outputs": [
        {
          "output_type": "stream",
          "text": [
            "{11, 12, 13, 14, 15}\n"
          ],
          "name": "stdout"
        }
      ]
    },
    {
      "cell_type": "code",
      "metadata": {
        "colab": {
          "base_uri": "https://localhost:8080/"
        },
        "id": "sQvHc1lzomvC",
        "outputId": "37f2c4c4-fca1-4655-c6a5-983e8319e5e9"
      },
      "source": [
        "#재귀함수\n",
        "#함수안에서 함수자기자신을 호출하는 방법\n",
        "#일반적인 상황에선 안쓰지만 알고리즘을 구현할때 매우 유용하다\n",
        "\n",
        "def hello(count):\n",
        "    if count==0:\n",
        "        return #종료조건을 만듦. count가 0이면 다시 hello함수를 호출하지 않고 끝낸다.\n",
        "    print(\"Hello, World\",count)\n",
        "\n",
        "    count-=1 #count를 1감소히킨 뒤\n",
        "    hello(count) #다시 hello에 넣음\n",
        "hello(5)"
      ],
      "execution_count": null,
      "outputs": [
        {
          "output_type": "stream",
          "text": [
            "Hello, World 5\n",
            "Hello, World 4\n",
            "Hello, World 3\n",
            "Hello, World 2\n",
            "Hello, World 1\n"
          ],
          "name": "stdout"
        }
      ]
    },
    {
      "cell_type": "code",
      "metadata": {
        "colab": {
          "base_uri": "https://localhost:8080/"
        },
        "id": "v4uBke3Gp19J",
        "outputId": "1d314dec-e1d2-43e7-ac88-099390674022"
      },
      "source": [
        "def factorial(n):\n",
        "    if n==1:   #n이 1일 때\n",
        "        return 1\n",
        "    return n*factorial(n-1) #1을 반환하고 재귀호출을 끝냄\n",
        "print(factorial(5))  #n과 factorial 함수에 n-1을 넣어서 반환된 값을 곱함"
      ],
      "execution_count": null,
      "outputs": [
        {
          "output_type": "stream",
          "text": [
            "120\n"
          ],
          "name": "stdout"
        }
      ]
    },
    {
      "cell_type": "code",
      "metadata": {
        "id": "7xkDrMMuqVjZ"
      },
      "source": [
        "#딕셔너리 요소수정\n",
        "# 요소추출-get() 사용"
      ],
      "execution_count": null,
      "outputs": []
    },
    {
      "cell_type": "code",
      "metadata": {
        "colab": {
          "base_uri": "https://localhost:8080/",
          "height": 129
        },
        "id": "9RpMJISOsp_4",
        "outputId": "c2525ba0-94e4-4aea-98d2-a54a7ff7a88e"
      },
      "source": [
        "#예제 편의점 재고관리 시스템\n",
        "#초기재고\n",
        "inventory={'삼각김밥:'10, '커피우유:'10}\n",
        "\n",
        "def add+product():\n",
        "    while True:\n",
        "        product=input('상품명:')\n",
        "        if product=='':\n",
        "            break\n",
        "        number=int(input('갯수:'))\n",
        "\n",
        "\n",
        "while True:\n",
        "    print('''\n",
        "    ==== 재고관리 시스템====\n",
        "    1:재고등록, 2:제품판매, 3:재고확인, 0:프로그램 종료\n",
        "    ''')\n",
        "    def store(menu):\n",
        "        menu=int(input('번호를 입력하세요'))\n",
        "        if menu==1:\n",
        "           \n"
      ],
      "execution_count": null,
      "outputs": [
        {
          "output_type": "error",
          "ename": "SyntaxError",
          "evalue": "ignored",
          "traceback": [
            "\u001b[0;36m  File \u001b[0;32m\"<ipython-input-26-c16e078436e1>\"\u001b[0;36m, line \u001b[0;32m11\u001b[0m\n\u001b[0;31m    \u001b[0m\n\u001b[0m    ^\u001b[0m\n\u001b[0;31mSyntaxError\u001b[0m\u001b[0;31m:\u001b[0m unexpected EOF while parsing\n"
          ]
        }
      ]
    },
    {
      "cell_type": "code",
      "metadata": {
        "colab": {
          "base_uri": "https://localhost:8080/",
          "height": 825
        },
        "id": "ftet2QAh3ub3",
        "outputId": "58d86085-8eb1-4e9c-cbbc-7cb21329a778"
      },
      "source": [
        "#이예빈님 예제코드\n",
        "dict_menus = {}\n",
        "def registration(): # 1.재고등록\n",
        "    while True:\n",
        "        name = input('상품명:')\n",
        "        if name == '':\n",
        "            break\n",
        "        num = int(input('갯수:'))\n",
        "        if name in dict_menus:\n",
        "            dict_menus[name] += num\n",
        "        else:\n",
        "            dict_menus[name] = num\n",
        "    print('-------------------------------')\n",
        "    for key, value in dict_menus.items():\n",
        "        print(f'{key} : {value}')\n",
        "def sale(): # 2.제품판매\n",
        "    while True:\n",
        "        name = input('상품명:')\n",
        "        if name == '':\n",
        "            break\n",
        "        num = int(input('갯수:'))\n",
        "        if num>dict_menus[name]:\n",
        "            print('재고가 부족합니다.')\n",
        "        else:\n",
        "            dict_menus[name] -= num\n",
        "            print(f'{dict_menus[name]}개 남았습니다.')\n",
        "def check(): # 3.재고확인\n",
        "    for key, value in dict_menus.items():\n",
        "        print(f'{key} : {value}')\n",
        "while True:\n",
        "    print('''\n",
        "    ===== 재고관리 시스템 =====\n",
        "    1:재고등록, 2:제품판매, 3:재고확인, 0:프로그램 종료\n",
        "    ''')\n",
        "    menu = input('메뉴를 선택하세요:')\n",
        "    if menu=='0':\n",
        "        break\n",
        "    elif menu=='1':\n",
        "        registration()\n",
        "    elif menu=='2':\n",
        "        sale()\n",
        "    elif menu=='3':\n",
        "        check()"
      ],
      "execution_count": null,
      "outputs": [
        {
          "output_type": "stream",
          "text": [
            "\n",
            "    ===== 재고관리 시스템 =====\n",
            "    1:재고등록, 2:제품판매, 3:재고확인, 0:프로그램 종료\n",
            "    \n",
            "메뉴를 선택하세요:1\n",
            "상품명:ㅇㅇ\n",
            "갯수:3\n",
            "상품명:0\n",
            "갯수:0\n",
            "상품명:0\n",
            "갯수:0\n",
            "상품명:0\n",
            "갯수:0\n",
            "상품명:0\n",
            "갯수:2\n",
            "상품명:1\n"
          ],
          "name": "stdout"
        },
        {
          "output_type": "error",
          "ename": "KeyboardInterrupt",
          "evalue": "ignored",
          "traceback": [
            "\u001b[0;31m---------------------------------------------------------------------------\u001b[0m",
            "\u001b[0;31mKeyboardInterrupt\u001b[0m                         Traceback (most recent call last)",
            "\u001b[0;32m/usr/local/lib/python3.7/dist-packages/ipykernel/kernelbase.py\u001b[0m in \u001b[0;36m_input_request\u001b[0;34m(self, prompt, ident, parent, password)\u001b[0m\n\u001b[1;32m    728\u001b[0m             \u001b[0;32mtry\u001b[0m\u001b[0;34m:\u001b[0m\u001b[0;34m\u001b[0m\u001b[0;34m\u001b[0m\u001b[0m\n\u001b[0;32m--> 729\u001b[0;31m                 \u001b[0mident\u001b[0m\u001b[0;34m,\u001b[0m \u001b[0mreply\u001b[0m \u001b[0;34m=\u001b[0m \u001b[0mself\u001b[0m\u001b[0;34m.\u001b[0m\u001b[0msession\u001b[0m\u001b[0;34m.\u001b[0m\u001b[0mrecv\u001b[0m\u001b[0;34m(\u001b[0m\u001b[0mself\u001b[0m\u001b[0;34m.\u001b[0m\u001b[0mstdin_socket\u001b[0m\u001b[0;34m,\u001b[0m \u001b[0;36m0\u001b[0m\u001b[0;34m)\u001b[0m\u001b[0;34m\u001b[0m\u001b[0;34m\u001b[0m\u001b[0m\n\u001b[0m\u001b[1;32m    730\u001b[0m             \u001b[0;32mexcept\u001b[0m \u001b[0mException\u001b[0m\u001b[0;34m:\u001b[0m\u001b[0;34m\u001b[0m\u001b[0;34m\u001b[0m\u001b[0m\n",
            "\u001b[0;32m/usr/local/lib/python3.7/dist-packages/jupyter_client/session.py\u001b[0m in \u001b[0;36mrecv\u001b[0;34m(self, socket, mode, content, copy)\u001b[0m\n\u001b[1;32m    802\u001b[0m         \u001b[0;32mtry\u001b[0m\u001b[0;34m:\u001b[0m\u001b[0;34m\u001b[0m\u001b[0;34m\u001b[0m\u001b[0m\n\u001b[0;32m--> 803\u001b[0;31m             \u001b[0mmsg_list\u001b[0m \u001b[0;34m=\u001b[0m \u001b[0msocket\u001b[0m\u001b[0;34m.\u001b[0m\u001b[0mrecv_multipart\u001b[0m\u001b[0;34m(\u001b[0m\u001b[0mmode\u001b[0m\u001b[0;34m,\u001b[0m \u001b[0mcopy\u001b[0m\u001b[0;34m=\u001b[0m\u001b[0mcopy\u001b[0m\u001b[0;34m)\u001b[0m\u001b[0;34m\u001b[0m\u001b[0;34m\u001b[0m\u001b[0m\n\u001b[0m\u001b[1;32m    804\u001b[0m         \u001b[0;32mexcept\u001b[0m \u001b[0mzmq\u001b[0m\u001b[0;34m.\u001b[0m\u001b[0mZMQError\u001b[0m \u001b[0;32mas\u001b[0m \u001b[0me\u001b[0m\u001b[0;34m:\u001b[0m\u001b[0;34m\u001b[0m\u001b[0;34m\u001b[0m\u001b[0m\n",
            "\u001b[0;32m/usr/local/lib/python3.7/dist-packages/zmq/sugar/socket.py\u001b[0m in \u001b[0;36mrecv_multipart\u001b[0;34m(self, flags, copy, track)\u001b[0m\n\u001b[1;32m    582\u001b[0m         \"\"\"\n\u001b[0;32m--> 583\u001b[0;31m         \u001b[0mparts\u001b[0m \u001b[0;34m=\u001b[0m \u001b[0;34m[\u001b[0m\u001b[0mself\u001b[0m\u001b[0;34m.\u001b[0m\u001b[0mrecv\u001b[0m\u001b[0;34m(\u001b[0m\u001b[0mflags\u001b[0m\u001b[0;34m,\u001b[0m \u001b[0mcopy\u001b[0m\u001b[0;34m=\u001b[0m\u001b[0mcopy\u001b[0m\u001b[0;34m,\u001b[0m \u001b[0mtrack\u001b[0m\u001b[0;34m=\u001b[0m\u001b[0mtrack\u001b[0m\u001b[0;34m)\u001b[0m\u001b[0;34m]\u001b[0m\u001b[0;34m\u001b[0m\u001b[0;34m\u001b[0m\u001b[0m\n\u001b[0m\u001b[1;32m    584\u001b[0m         \u001b[0;31m# have first part already, only loop while more to receive\u001b[0m\u001b[0;34m\u001b[0m\u001b[0;34m\u001b[0m\u001b[0;34m\u001b[0m\u001b[0m\n",
            "\u001b[0;32mzmq/backend/cython/socket.pyx\u001b[0m in \u001b[0;36mzmq.backend.cython.socket.Socket.recv\u001b[0;34m()\u001b[0m\n",
            "\u001b[0;32mzmq/backend/cython/socket.pyx\u001b[0m in \u001b[0;36mzmq.backend.cython.socket.Socket.recv\u001b[0;34m()\u001b[0m\n",
            "\u001b[0;32mzmq/backend/cython/socket.pyx\u001b[0m in \u001b[0;36mzmq.backend.cython.socket._recv_copy\u001b[0;34m()\u001b[0m\n",
            "\u001b[0;32m/usr/local/lib/python3.7/dist-packages/zmq/backend/cython/checkrc.pxd\u001b[0m in \u001b[0;36mzmq.backend.cython.checkrc._check_rc\u001b[0;34m()\u001b[0m\n",
            "\u001b[0;31mKeyboardInterrupt\u001b[0m: ",
            "\nDuring handling of the above exception, another exception occurred:\n",
            "\u001b[0;31mKeyboardInterrupt\u001b[0m                         Traceback (most recent call last)",
            "\u001b[0;32m<ipython-input-27-83956152d51c>\u001b[0m in \u001b[0;36m<module>\u001b[0;34m()\u001b[0m\n\u001b[1;32m     37\u001b[0m         \u001b[0;32mbreak\u001b[0m\u001b[0;34m\u001b[0m\u001b[0;34m\u001b[0m\u001b[0m\n\u001b[1;32m     38\u001b[0m     \u001b[0;32melif\u001b[0m \u001b[0mmenu\u001b[0m\u001b[0;34m==\u001b[0m\u001b[0;34m'1'\u001b[0m\u001b[0;34m:\u001b[0m\u001b[0;34m\u001b[0m\u001b[0;34m\u001b[0m\u001b[0m\n\u001b[0;32m---> 39\u001b[0;31m         \u001b[0mregistration\u001b[0m\u001b[0;34m(\u001b[0m\u001b[0;34m)\u001b[0m\u001b[0;34m\u001b[0m\u001b[0;34m\u001b[0m\u001b[0m\n\u001b[0m\u001b[1;32m     40\u001b[0m     \u001b[0;32melif\u001b[0m \u001b[0mmenu\u001b[0m\u001b[0;34m==\u001b[0m\u001b[0;34m'2'\u001b[0m\u001b[0;34m:\u001b[0m\u001b[0;34m\u001b[0m\u001b[0;34m\u001b[0m\u001b[0m\n\u001b[1;32m     41\u001b[0m         \u001b[0msale\u001b[0m\u001b[0;34m(\u001b[0m\u001b[0;34m)\u001b[0m\u001b[0;34m\u001b[0m\u001b[0;34m\u001b[0m\u001b[0m\n",
            "\u001b[0;32m<ipython-input-27-83956152d51c>\u001b[0m in \u001b[0;36mregistration\u001b[0;34m()\u001b[0m\n\u001b[1;32m      6\u001b[0m         \u001b[0;32mif\u001b[0m \u001b[0mname\u001b[0m \u001b[0;34m==\u001b[0m \u001b[0;34m''\u001b[0m\u001b[0;34m:\u001b[0m\u001b[0;34m\u001b[0m\u001b[0;34m\u001b[0m\u001b[0m\n\u001b[1;32m      7\u001b[0m             \u001b[0;32mbreak\u001b[0m\u001b[0;34m\u001b[0m\u001b[0;34m\u001b[0m\u001b[0m\n\u001b[0;32m----> 8\u001b[0;31m         \u001b[0mnum\u001b[0m \u001b[0;34m=\u001b[0m \u001b[0mint\u001b[0m\u001b[0;34m(\u001b[0m\u001b[0minput\u001b[0m\u001b[0;34m(\u001b[0m\u001b[0;34m'갯수:'\u001b[0m\u001b[0;34m)\u001b[0m\u001b[0;34m)\u001b[0m\u001b[0;34m\u001b[0m\u001b[0;34m\u001b[0m\u001b[0m\n\u001b[0m\u001b[1;32m      9\u001b[0m         \u001b[0;32mif\u001b[0m \u001b[0mname\u001b[0m \u001b[0;32min\u001b[0m \u001b[0mdict_menus\u001b[0m\u001b[0;34m:\u001b[0m\u001b[0;34m\u001b[0m\u001b[0;34m\u001b[0m\u001b[0m\n\u001b[1;32m     10\u001b[0m             \u001b[0mdict_menus\u001b[0m\u001b[0;34m[\u001b[0m\u001b[0mname\u001b[0m\u001b[0;34m]\u001b[0m \u001b[0;34m+=\u001b[0m \u001b[0mnum\u001b[0m\u001b[0;34m\u001b[0m\u001b[0;34m\u001b[0m\u001b[0m\n",
            "\u001b[0;32m/usr/local/lib/python3.7/dist-packages/ipykernel/kernelbase.py\u001b[0m in \u001b[0;36mraw_input\u001b[0;34m(self, prompt)\u001b[0m\n\u001b[1;32m    702\u001b[0m             \u001b[0mself\u001b[0m\u001b[0;34m.\u001b[0m\u001b[0m_parent_ident\u001b[0m\u001b[0;34m,\u001b[0m\u001b[0;34m\u001b[0m\u001b[0;34m\u001b[0m\u001b[0m\n\u001b[1;32m    703\u001b[0m             \u001b[0mself\u001b[0m\u001b[0;34m.\u001b[0m\u001b[0m_parent_header\u001b[0m\u001b[0;34m,\u001b[0m\u001b[0;34m\u001b[0m\u001b[0;34m\u001b[0m\u001b[0m\n\u001b[0;32m--> 704\u001b[0;31m             \u001b[0mpassword\u001b[0m\u001b[0;34m=\u001b[0m\u001b[0;32mFalse\u001b[0m\u001b[0;34m,\u001b[0m\u001b[0;34m\u001b[0m\u001b[0;34m\u001b[0m\u001b[0m\n\u001b[0m\u001b[1;32m    705\u001b[0m         )\n\u001b[1;32m    706\u001b[0m \u001b[0;34m\u001b[0m\u001b[0m\n",
            "\u001b[0;32m/usr/local/lib/python3.7/dist-packages/ipykernel/kernelbase.py\u001b[0m in \u001b[0;36m_input_request\u001b[0;34m(self, prompt, ident, parent, password)\u001b[0m\n\u001b[1;32m    732\u001b[0m             \u001b[0;32mexcept\u001b[0m \u001b[0mKeyboardInterrupt\u001b[0m\u001b[0;34m:\u001b[0m\u001b[0;34m\u001b[0m\u001b[0;34m\u001b[0m\u001b[0m\n\u001b[1;32m    733\u001b[0m                 \u001b[0;31m# re-raise KeyboardInterrupt, to truncate traceback\u001b[0m\u001b[0;34m\u001b[0m\u001b[0;34m\u001b[0m\u001b[0;34m\u001b[0m\u001b[0m\n\u001b[0;32m--> 734\u001b[0;31m                 \u001b[0;32mraise\u001b[0m \u001b[0mKeyboardInterrupt\u001b[0m\u001b[0;34m\u001b[0m\u001b[0;34m\u001b[0m\u001b[0m\n\u001b[0m\u001b[1;32m    735\u001b[0m             \u001b[0;32melse\u001b[0m\u001b[0;34m:\u001b[0m\u001b[0;34m\u001b[0m\u001b[0;34m\u001b[0m\u001b[0m\n\u001b[1;32m    736\u001b[0m                 \u001b[0;32mbreak\u001b[0m\u001b[0;34m\u001b[0m\u001b[0;34m\u001b[0m\u001b[0m\n",
            "\u001b[0;31mKeyboardInterrupt\u001b[0m: "
          ]
        }
      ]
    },
    {
      "cell_type": "code",
      "metadata": {
        "id": "2S6QxwgM3ySO"
      },
      "source": [
        ""
      ],
      "execution_count": null,
      "outputs": []
    }
  ]
}